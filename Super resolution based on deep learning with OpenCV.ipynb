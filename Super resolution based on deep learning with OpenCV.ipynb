{
 "cells": [
  {
   "cell_type": "markdown",
   "id": "682ec271",
   "metadata": {},
   "source": [
    "# Super resolution based on deep learning with OpenCV\n",
    "https://towardsdatascience.com/deep-learning-based-super-resolution-with-opencv-4fd736678066"
   ]
  },
  {
   "cell_type": "code",
   "execution_count": 1,
   "id": "b6c6fcfb",
   "metadata": {},
   "outputs": [],
   "source": [
    "import cv2\n",
    "from cv2 import dnn_superres\n",
    "import os"
   ]
  },
  {
   "cell_type": "code",
   "execution_count": 6,
   "id": "19caef31",
   "metadata": {},
   "outputs": [
    {
     "data": {
      "text/plain": [
       "('/Users/etiennelanzeray/code/EtiNL/SR_with_DeepLearning/FSRCNN_x2.pb', True)"
      ]
     },
     "execution_count": 6,
     "metadata": {},
     "output_type": "execute_result"
    }
   ],
   "source": [
    "path = os.path.abspath(\"FSRCNN_x2.pb\")\n",
    "isExist = os.path.exists(path)\n",
    "path, isExist"
   ]
  },
  {
   "cell_type": "code",
   "execution_count": 8,
   "id": "85f2be62",
   "metadata": {},
   "outputs": [
    {
     "data": {
      "text/plain": [
       "True"
      ]
     },
     "execution_count": 8,
     "metadata": {},
     "output_type": "execute_result"
    }
   ],
   "source": [
    "os.path.exists(\"./FSRCNN_Tensorflow/images/input.png\")"
   ]
  },
  {
   "cell_type": "code",
   "execution_count": 7,
   "id": "447310e8",
   "metadata": {},
   "outputs": [
    {
     "name": "stdout",
     "output_type": "stream",
     "text": [
      "None\n"
     ]
    }
   ],
   "source": [
    "\n",
    "\n",
    "# Create an SR object\n",
    "sr = dnn_superres.DnnSuperResImpl_create()\n",
    "\n",
    "# Read image\n",
    "image = cv2.imread('./raw_data/input.png')\n",
    "# Read the desired model\n",
    "path = os.path.abspath(\"FSRCNN_x2.pb\")\n",
    "print(sr.readModel(path))\n",
    "\n"
   ]
  },
  {
   "cell_type": "code",
   "execution_count": null,
   "id": "ce39f802",
   "metadata": {},
   "outputs": [],
   "source": [
    "# Set the desired model and scale to get correct pre- and post-processing\n",
    "sr.setModel(\"fsrcnn\", 2)\n",
    "\n",
    "# Upscale the image\n",
    "result = sr.upsample(image)\n",
    "\n",
    "# Save the image\n",
    "cv2.imwrite(\"./raw_data/upscaled.png\", result)"
   ]
  },
  {
   "cell_type": "markdown",
   "id": "eca6fef4",
   "metadata": {},
   "source": [
    "Can't find why it doesn't work so I posted on StackOverflow:  \n",
    "https://stackoverflow.com/questions/74962975/error-opencv4-7-0-failed-fs-is-open-cant-open-edsr-x3-pb-in-function"
   ]
  },
  {
   "cell_type": "markdown",
   "id": "992ca6e5",
   "metadata": {},
   "source": [
    ">**comments:**  \n",
    "@ivan_onys:  \n",
    "Try providing absolute path to .pb file and let know if it helped.  \n",
    "@Me:  \n",
    "My bad, the path wasn't the problem but your comment @ivan_onys (thx btw) made me realize I got confused between the c++ and the python code in the article. They are not using the same model (`EDSR_x3.pb` in python and `FSRCNN_x2.pb` in c++), and I downloaded the wrong one for the code I copied.\n",
    "Though after downloading the good model for the code, it still doesn't work. This time it seems like `sr.readModel(path)` works, but I got this error:\n",
    "`(-215:Assertion failed) _FX_WINO_IBLOCK == 3 && _FX_WINO_KBLOCK == 4 in function '_fx_winograd_accum_f32'` on the line `result = sr.upsample(image)`\n"
   ]
  }
 ],
 "metadata": {
  "kernelspec": {
   "display_name": "Python 3 (ipykernel)",
   "language": "python",
   "name": "python3"
  },
  "language_info": {
   "codemirror_mode": {
    "name": "ipython",
    "version": 3
   },
   "file_extension": ".py",
   "mimetype": "text/x-python",
   "name": "python",
   "nbconvert_exporter": "python",
   "pygments_lexer": "ipython3",
   "version": "3.10.6"
  },
  "toc": {
   "base_numbering": 1,
   "nav_menu": {},
   "number_sections": true,
   "sideBar": true,
   "skip_h1_title": false,
   "title_cell": "Table of Contents",
   "title_sidebar": "Contents",
   "toc_cell": false,
   "toc_position": {},
   "toc_section_display": true,
   "toc_window_display": false
  }
 },
 "nbformat": 4,
 "nbformat_minor": 5
}
