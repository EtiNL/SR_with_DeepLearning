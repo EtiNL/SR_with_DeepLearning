{
 "cells": [
  {
   "cell_type": "markdown",
   "id": "682ec271",
   "metadata": {},
   "source": [
    "# Super resolution based on deep learning with OpenCV\n",
    "https://towardsdatascience.com/deep-learning-based-super-resolution-with-opencv-4fd736678066"
   ]
  },
  {
   "cell_type": "code",
   "execution_count": 4,
   "id": "447310e8",
   "metadata": {},
   "outputs": [
    {
     "ename": "error",
     "evalue": "OpenCV(4.7.0) /Users/runner/work/opencv-python/opencv-python/opencv/modules/dnn/src/caffe/caffe_io.cpp:1138: error: (-2:Unspecified error) FAILED: fs.is_open(). Can't open \"EDSR_x3.pb\" in function 'ReadProtoFromBinaryFile'\n",
     "output_type": "error",
     "traceback": [
      "\u001b[0;31m---------------------------------------------------------------------------\u001b[0m",
      "\u001b[0;31merror\u001b[0m                                     Traceback (most recent call last)",
      "Cell \u001b[0;32mIn[4], line 12\u001b[0m\n\u001b[1;32m     10\u001b[0m \u001b[38;5;66;03m# Read the desired model\u001b[39;00m\n\u001b[1;32m     11\u001b[0m path \u001b[38;5;241m=\u001b[39m \u001b[38;5;124m\"\u001b[39m\u001b[38;5;124mEDSR_x3.pb\u001b[39m\u001b[38;5;124m\"\u001b[39m\n\u001b[0;32m---> 12\u001b[0m \u001b[43msr\u001b[49m\u001b[38;5;241;43m.\u001b[39;49m\u001b[43mreadModel\u001b[49m\u001b[43m(\u001b[49m\u001b[43mpath\u001b[49m\u001b[43m)\u001b[49m\n\u001b[1;32m     14\u001b[0m \u001b[38;5;66;03m# Set the desired model and scale to get correct pre- and post-processing\u001b[39;00m\n\u001b[1;32m     15\u001b[0m sr\u001b[38;5;241m.\u001b[39msetModel(\u001b[38;5;124m\"\u001b[39m\u001b[38;5;124medsr\u001b[39m\u001b[38;5;124m\"\u001b[39m, \u001b[38;5;241m3\u001b[39m)\n",
      "\u001b[0;31merror\u001b[0m: OpenCV(4.7.0) /Users/runner/work/opencv-python/opencv-python/opencv/modules/dnn/src/caffe/caffe_io.cpp:1138: error: (-2:Unspecified error) FAILED: fs.is_open(). Can't open \"EDSR_x3.pb\" in function 'ReadProtoFromBinaryFile'\n"
     ]
    }
   ],
   "source": [
    "import cv2\n",
    "from cv2 import dnn_superres\n",
    "\n",
    "# Create an SR object\n",
    "sr = dnn_superres.DnnSuperResImpl_create()\n",
    "\n",
    "# Read image\n",
    "image = cv2.imread('./raw_data/input.png')\n",
    "\n",
    "# Read the desired model\n",
    "path = \"EDSR_x3.pb\"\n",
    "sr.readModel(path)\n",
    "\n",
    "# Set the desired model and scale to get correct pre- and post-processing\n",
    "sr.setModel(\"edsr\", 3)\n",
    "\n",
    "# Upscale the image\n",
    "result = sr.upsample(image)\n",
    "\n",
    "# Save the image\n",
    "cv2.imwrite(\"./raw_data/upscaled.png\", result)"
   ]
  },
  {
   "cell_type": "markdown",
   "id": "eca6fef4",
   "metadata": {},
   "source": [
    "Can't find why it doesn't work so I posted on StackOverflow:  \n",
    "https://stackoverflow.com/questions/74962975/error-opencv4-7-0-failed-fs-is-open-cant-open-edsr-x3-pb-in-function"
   ]
  },
  {
   "cell_type": "code",
   "execution_count": null,
   "id": "e205316e",
   "metadata": {},
   "outputs": [],
   "source": []
  }
 ],
 "metadata": {
  "kernelspec": {
   "display_name": "Python 3 (ipykernel)",
   "language": "python",
   "name": "python3"
  },
  "language_info": {
   "codemirror_mode": {
    "name": "ipython",
    "version": 3
   },
   "file_extension": ".py",
   "mimetype": "text/x-python",
   "name": "python",
   "nbconvert_exporter": "python",
   "pygments_lexer": "ipython3",
   "version": "3.10.6"
  },
  "toc": {
   "base_numbering": 1,
   "nav_menu": {},
   "number_sections": true,
   "sideBar": true,
   "skip_h1_title": false,
   "title_cell": "Table of Contents",
   "title_sidebar": "Contents",
   "toc_cell": false,
   "toc_position": {},
   "toc_section_display": true,
   "toc_window_display": false
  }
 },
 "nbformat": 4,
 "nbformat_minor": 5
}
